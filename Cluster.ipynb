{
 "cells": [
  {
   "cell_type": "code",
   "execution_count": 1,
   "id": "f4aa4a06",
   "metadata": {},
   "outputs": [
    {
     "name": "stdout",
     "output_type": "stream",
     "text": [
      "[0 2 1 2 1 2 0 1 2 0 0 2 0 1 0 1 0 0 2 0 0 0 0 0 0 0 1 0 1 0 1 0 0 0 2 0 1\n",
      " 2 0 1 2 2 1 0 0 1 2 0 0 1 0 0 0 0 0 2 1 1 2 1 1 0 0 1 1 0 1 1 2 1 0 1 1 0\n",
      " 0 1 1 0 0 2 0 0 0 1 1 1 1 1 2 0 0 1 0 1 1 2 2 0 0 1]\n"
     ]
    }
   ],
   "source": [
    "import numpy as np\n",
    "from sklearn.cluster import KMeans\n",
    "\n",
    "# Generate sample data\n",
    "X = np.random.randn(100, 2)\n",
    "\n",
    "# Perform clustering using KMeans\n",
    "kmeans = KMeans(n_clusters=3, random_state=0)\n",
    "kmeans.fit(X)\n",
    "\n",
    "# Print cluster labels for each data point\n",
    "print(kmeans.labels_)\n"
   ]
  },
  {
   "cell_type": "code",
   "execution_count": null,
   "id": "d0205920",
   "metadata": {},
   "outputs": [],
   "source": []
  }
 ],
 "metadata": {
  "kernelspec": {
   "display_name": "Python 3 (ipykernel)",
   "language": "python",
   "name": "python3"
  },
  "language_info": {
   "codemirror_mode": {
    "name": "ipython",
    "version": 3
   },
   "file_extension": ".py",
   "mimetype": "text/x-python",
   "name": "python",
   "nbconvert_exporter": "python",
   "pygments_lexer": "ipython3",
   "version": "3.9.7"
  }
 },
 "nbformat": 4,
 "nbformat_minor": 5
}
