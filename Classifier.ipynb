{
 "cells": [
  {
   "cell_type": "code",
   "execution_count": 1,
   "id": "c7ce54cc",
   "metadata": {},
   "outputs": [
    {
     "name": "stdout",
     "output_type": "stream",
     "text": [
      "Accuracy: 0.7738980350504514\n"
     ]
    }
   ],
   "source": [
    "# import necessary modules\n",
    "from sklearn.datasets import fetch_20newsgroups\n",
    "from sklearn.feature_extraction.text import TfidfVectorizer\n",
    "from sklearn.naive_bayes import MultinomialNB\n",
    "from sklearn.pipeline import Pipeline\n",
    "from sklearn.metrics import accuracy_score\n",
    "\n",
    "# load the 20 newsgroups dataset\n",
    "newsgroups_train = fetch_20newsgroups(subset='train')\n",
    "newsgroups_test = fetch_20newsgroups(subset='test')\n",
    "\n",
    "# define the text vectorizer\n",
    "tfidf_vectorizer = TfidfVectorizer()\n",
    "\n",
    "# define the Naive Bayes classifier\n",
    "classifier = MultinomialNB()\n",
    "\n",
    "# create a pipeline that vectorizes the text and trains the classifier\n",
    "pipeline = Pipeline([\n",
    "    ('vectorizer', tfidf_vectorizer),\n",
    "    ('classifier', classifier),\n",
    "])\n",
    "\n",
    "# fit the pipeline to the training data\n",
    "pipeline.fit(newsgroups_train.data, newsgroups_train.target)\n",
    "\n",
    "# predict the categories of the test data\n",
    "predicted = pipeline.predict(newsgroups_test.data)\n",
    "\n",
    "# calculate the accuracy of the classifier\n",
    "accuracy = accuracy_score(newsgroups_test.target, predicted)\n",
    "\n",
    "print(\"Accuracy:\", accuracy)\n"
   ]
  },
  {
   "cell_type": "code",
   "execution_count": null,
   "id": "179fd8c7",
   "metadata": {},
   "outputs": [],
   "source": []
  }
 ],
 "metadata": {
  "kernelspec": {
   "display_name": "Python 3 (ipykernel)",
   "language": "python",
   "name": "python3"
  },
  "language_info": {
   "codemirror_mode": {
    "name": "ipython",
    "version": 3
   },
   "file_extension": ".py",
   "mimetype": "text/x-python",
   "name": "python",
   "nbconvert_exporter": "python",
   "pygments_lexer": "ipython3",
   "version": "3.9.7"
  }
 },
 "nbformat": 4,
 "nbformat_minor": 5
}
