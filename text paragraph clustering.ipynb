{
 "cells": [
  {
   "cell_type": "markdown",
   "id": "5906d5a5",
   "metadata": {},
   "source": [
    "Code uses the TfidfVectorizer to transform the text data into feature vectors, and then applies TruncatedSVD to reduce the number of features and make the clustering faster\n",
    "\n",
    "\n",
    "It applies k-means clustering to the reduced feature vectors\n",
    "\n",
    "Adjust the number of clusters by changing the n_clusters parameter in the KMeans constructor \n",
    "\n",
    "Code need to be customized to fit specific use case"
   ]
  },
  {
   "cell_type": "code",
   "execution_count": 7,
   "id": "f225c519",
   "metadata": {},
   "outputs": [
    {
     "name": "stdout",
     "output_type": "stream",
     "text": [
      "                                                text  cluster\n",
      "0  The study of humanities involves exploring hum...        1\n",
      "1  In computer science, algorithms are used to so...        0\n",
      "2  Many people argue that technology is having a ...        0\n",
      "3  One of the most important movements in the his...        1\n",
      "4  Data science is a field that involves extracti...        0\n"
     ]
    }
   ],
   "source": [
    "import pandas as pd\n",
    "from sklearn.feature_extraction.text import TfidfVectorizer\n",
    "from sklearn.cluster import KMeans\n",
    "from sklearn.decomposition import TruncatedSVD\n",
    "from sklearn.pipeline import make_pipeline\n",
    "from sklearn.preprocessing import Normalizer\n",
    "\n",
    "# define the dataframe with hardcoded data\n",
    "\n",
    "data = {'text': [\n",
    "    'The study of humanities involves exploring human culture, including art, literature, philosophy, and history. Humanities courses often encourage critical thinking and analysis of complex ideas.',\n",
    "    'In computer science, algorithms are used to solve problems and automate tasks. They are step-by-step procedures for calculations or other operations, and are essential to modern computing.',\n",
    "    'Many people argue that technology is having a negative impact on society. They point to issues such as privacy concerns, addiction to social media, and the loss of jobs due to automation.',\n",
    "    'One of the most important movements in the history of art is the Renaissance. This period saw a revival of interest in classical art and literature, as well as the development of new techniques and styles.',\n",
    "    'Data science is a field that involves extracting insights and knowledge from data. It incorporates elements of statistics, computer science, and domain expertise to make sense of large and complex data sets.'\n",
    "]}\n",
    "\n",
    "\n",
    "df = pd.DataFrame(data)\n",
    "\n",
    "# create a TfidfVectorizer object to transform the text data into feature vectors\n",
    "vectorizer = TfidfVectorizer(max_df=0.5, max_features=10000, min_df=2, stop_words='english', use_idf=True)\n",
    "X = vectorizer.fit_transform(df['text'])\n",
    "\n",
    "# apply TruncatedSVD to reduce the number of features and make the clustering faster\n",
    "svd = TruncatedSVD(n_components=2)\n",
    "normalizer = Normalizer(copy=False)\n",
    "lsa = make_pipeline(svd, normalizer)\n",
    "X = lsa.fit_transform(X)\n",
    "\n",
    "# perform k-means clustering on the feature vectors\n",
    "kmeans = KMeans(n_clusters=2, init='k-means++', max_iter=100, n_init=1)\n",
    "kmeans.fit(X)\n",
    "\n",
    "# add the cluster labels to the dataframe\n",
    "df['cluster'] = kmeans.labels_\n",
    "\n",
    "# print the results\n",
    "print(df)\n"
   ]
  },
  {
   "cell_type": "code",
   "execution_count": null,
   "id": "e6f5a221",
   "metadata": {},
   "outputs": [],
   "source": []
  }
 ],
 "metadata": {
  "kernelspec": {
   "display_name": "Python 3 (ipykernel)",
   "language": "python",
   "name": "python3"
  },
  "language_info": {
   "codemirror_mode": {
    "name": "ipython",
    "version": 3
   },
   "file_extension": ".py",
   "mimetype": "text/x-python",
   "name": "python",
   "nbconvert_exporter": "python",
   "pygments_lexer": "ipython3",
   "version": "3.9.7"
  }
 },
 "nbformat": 4,
 "nbformat_minor": 5
}
