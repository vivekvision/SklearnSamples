{
 "cells": [
  {
   "cell_type": "markdown",
   "id": "c49a7021",
   "metadata": {},
   "source": [
    "Sample code to perform text sentence clustering using scikit-learn on a pandas dataframe with input text sentences\n",
    "\n",
    "\n",
    "sentences would be  clustered into two groups based on their similarity\n",
    "\n",
    "\n",
    "number of clusters can be adjusted by changing the n_clusters parameter in the KMeans constructor"
   ]
  },
  {
   "cell_type": "code",
   "execution_count": 1,
   "id": "f057e888",
   "metadata": {},
   "outputs": [
    {
     "name": "stdout",
     "output_type": "stream",
     "text": [
      "                                           text  cluster\n",
      "0  The quick brown fox jumped over the lazy dog        0\n",
      "1                  The brown dog chased the cat        0\n",
      "2                        The cat climbed a tree        1\n",
      "3                       The dog ate my homework        1\n",
      "4                          The cat ate the bird        1\n"
     ]
    }
   ],
   "source": [
    "import pandas as pd\n",
    "from sklearn.feature_extraction.text import TfidfVectorizer\n",
    "from sklearn.cluster import KMeans\n",
    "\n",
    "# define the dataframe with hardcoded data\n",
    "data = {'text': ['The quick brown fox jumped over the lazy dog',\n",
    "                 'The brown dog chased the cat',\n",
    "                 'The cat climbed a tree',\n",
    "                 'The dog ate my homework',\n",
    "                 'The cat ate the bird']}\n",
    "df = pd.DataFrame(data)\n",
    "\n",
    "# create a TfidfVectorizer object to transform the text data into feature vectors\n",
    "vectorizer = TfidfVectorizer(stop_words='english')\n",
    "X = vectorizer.fit_transform(df['text'])\n",
    "\n",
    "# perform k-means clustering on the feature vectors\n",
    "kmeans = KMeans(n_clusters=2, random_state=0).fit(X)\n",
    "\n",
    "# add the cluster labels to the dataframe\n",
    "df['cluster'] = kmeans.labels_\n",
    "\n",
    "# print the results\n",
    "print(df)\n"
   ]
  },
  {
   "cell_type": "code",
   "execution_count": null,
   "id": "b59061f6",
   "metadata": {},
   "outputs": [],
   "source": []
  }
 ],
 "metadata": {
  "kernelspec": {
   "display_name": "Python 3 (ipykernel)",
   "language": "python",
   "name": "python3"
  },
  "language_info": {
   "codemirror_mode": {
    "name": "ipython",
    "version": 3
   },
   "file_extension": ".py",
   "mimetype": "text/x-python",
   "name": "python",
   "nbconvert_exporter": "python",
   "pygments_lexer": "ipython3",
   "version": "3.9.7"
  }
 },
 "nbformat": 4,
 "nbformat_minor": 5
}
